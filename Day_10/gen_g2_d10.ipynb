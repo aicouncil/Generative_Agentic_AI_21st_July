{
  "nbformat": 4,
  "nbformat_minor": 0,
  "metadata": {
    "colab": {
      "provenance": []
    },
    "kernelspec": {
      "name": "python3",
      "display_name": "Python 3"
    },
    "language_info": {
      "name": "python"
    }
  },
  "cells": [
    {
      "cell_type": "markdown",
      "source": [
        "**Access or read the document provided**"
      ],
      "metadata": {
        "id": "GWIgw9Fa59lC"
      }
    },
    {
      "cell_type": "code",
      "source": [
        "!pip install PyPDF2"
      ],
      "metadata": {
        "colab": {
          "base_uri": "https://localhost:8080/"
        },
        "id": "GMLioVyl7BTI",
        "outputId": "8a573d74-6b55-4045-9e1b-ed1aac963ebb"
      },
      "execution_count": null,
      "outputs": [
        {
          "output_type": "stream",
          "name": "stdout",
          "text": [
            "Collecting PyPDF2\n",
            "  Downloading pypdf2-3.0.1-py3-none-any.whl.metadata (6.8 kB)\n",
            "Downloading pypdf2-3.0.1-py3-none-any.whl (232 kB)\n",
            "\u001b[?25l   \u001b[90m━━━━━━━━━━━━━━━━━━━━━━━━━━━━━━━━━━━━━━━━\u001b[0m \u001b[32m0.0/232.6 kB\u001b[0m \u001b[31m?\u001b[0m eta \u001b[36m-:--:--\u001b[0m\r\u001b[2K   \u001b[90m━━━━━━━━━━━━━━━━━━━━━━━━━━━━━━━━━━━━━━━━\u001b[0m \u001b[32m232.6/232.6 kB\u001b[0m \u001b[31m12.9 MB/s\u001b[0m eta \u001b[36m0:00:00\u001b[0m\n",
            "\u001b[?25hInstalling collected packages: PyPDF2\n",
            "Successfully installed PyPDF2-3.0.1\n"
          ]
        }
      ]
    },
    {
      "cell_type": "code",
      "execution_count": null,
      "metadata": {
        "colab": {
          "base_uri": "https://localhost:8080/"
        },
        "id": "C8sPvMoO59CA",
        "outputId": "0dad3216-3fb1-41b8-9797-3358ffc747c2"
      },
      "outputs": [
        {
          "output_type": "stream",
          "name": "stdout",
          "text": [
            "Company Manual - TechNova Solutions Pvt. Ltd.\n",
            "About the Company\n",
            "TechNova Solutions Pvt. Ltd. is a global leader in consumer electronics, committed to delivering\n",
            "innovative technology and excellent customer service. \n",
            "Founded in 2005, TechNova has grown to serve over 20 million customers across 35 countries. We\n",
            "specialize in smart devices, home automation, and sustainable technology solutions.\n",
            "Our mission is to make everyday life smarter, simpler, and more connected. We believe in constant\n",
            "innovation, environmental responsibility, and customer satisfaction above all else.\n",
            "Our headquarters are located in Bengaluru, India, with major regional offices in Singapore,\n",
            "Germany, and the United States.\n",
            "Return Policy\n",
            "We offer a 30-day return policy on all our products purchased directly through our website or\n",
            "authorized outlets.\n",
            "To be eligible for a return, the product must be unused, in its original packaging, and accompanied\n",
            "by the original invoice. Refunds are initiated after we receive and inspect the returned item.\n",
            "Returns are not accepted for customized products, opened software, or items marked 'final sale.'\n",
            "For international orders, return shipping costs are borne by the customer unless the product is found\n",
            "defective upon arrival.\n",
            "Please initiate your return through our online portal or by contacting our support team within 30 days\n",
            "of delivery.\n",
            "Warranty\n",
            "All TechNova products come with a one-year limited warranty from the date of purchase.\n",
            "This warranty covers manufacturing defects and issues arising from normal usage. It does not cover\n",
            "physical damage, unauthorized repairs, or damages due to improper handling.\n",
            "Customers can extend their warranty coverage up to 3 years by subscribing to our Extended\n",
            "Protection Plan.\n",
            "To make a warranty claim, users must register the product on our website within 15 days of\n",
            "purchase and provide a valid proof of purchase during the claim process.Company Manual - TechNova Solutions Pvt. Ltd.\n",
            "Warranty services include repair, replacement, or refund at the company's discretion.\n",
            "Customer Service\n",
            "Our award-winning customer support is available 24/7 to assist you with any queries or concerns.\n",
            "Support Channels:\n",
            "- Phone: +91-9999999999 (Mon-Fri, 9 AM to 6 PM IST)\n",
            "- Email: support@technova.com (Response time: within 24 hours)\n",
            "- Live Chat: Available on our website and mobile app\n",
            "- Help Center: https://support.technova.com\n",
            "We also provide video call support and remote diagnostics for troubleshooting smart home devices.\n",
            "Your satisfaction is our priority. We aim to resolve most customer queries within 48 hours.\n",
            "Environmental Commitment\n",
            "At TechNova, sustainability is a core part of our business. We are committed to reducing electronic\n",
            "waste and promoting green technologies.\n",
            "We use 100% recyclable packaging, and our facilities are powered by renewable energy.\n",
            "Our 'Recycle & Upgrade' program allows customers to exchange their old TechNova devices for\n",
            "credits toward new purchases, ensuring responsible disposal and reuse.\n",
            "We also plant one tree for every product sold, in partnership with global reforestation organizations.\n",
            "TechNova has received multiple green certifications, including ISO 14001 and Energy Star Partner\n",
            "of the Year awards.\n"
          ]
        }
      ],
      "source": [
        "import PyPDF2\n",
        "\n",
        "myfile = open('/content/company_manual.pdf' , 'rb')\n",
        "pdf_data = PyPDF2.PdfReader(myfile)\n",
        "\n",
        "full_text = ''\n",
        "for page in pdf_data.pages:\n",
        "  #print(page.extract_text())\n",
        "  full_text = full_text + page.extract_text()\n",
        "\n",
        "print(full_text)\n",
        "myfile.close()"
      ]
    },
    {
      "cell_type": "code",
      "source": [
        "def extract_data_from_pdf(pdf_path):\n",
        "  myfile = open(pdf_path , 'rb')\n",
        "  pdf_data = PyPDF2.PdfReader(myfile)\n",
        "\n",
        "  full_text = ''\n",
        "  for page in pdf_data.pages:\n",
        "    #print(page.extract_text())\n",
        "    full_text = full_text + page.extract_text()\n",
        "\n",
        "  return full_text\n",
        "  myfile.close()"
      ],
      "metadata": {
        "id": "csquMpLk8Uiu"
      },
      "execution_count": null,
      "outputs": []
    },
    {
      "cell_type": "code",
      "source": [
        "extracted_text = extract_data_from_pdf('/content/company_manual.pdf')\n",
        "print(extracted_text)"
      ],
      "metadata": {
        "colab": {
          "base_uri": "https://localhost:8080/"
        },
        "id": "AsAe4wjw8lXX",
        "outputId": "cab327cb-cd22-4387-ebe5-c9c3ea5364fa"
      },
      "execution_count": null,
      "outputs": [
        {
          "output_type": "stream",
          "name": "stdout",
          "text": [
            "Company Manual - TechNova Solutions Pvt. Ltd.\n",
            "About the Company\n",
            "TechNova Solutions Pvt. Ltd. is a global leader in consumer electronics, committed to delivering\n",
            "innovative technology and excellent customer service. \n",
            "Founded in 2005, TechNova has grown to serve over 20 million customers across 35 countries. We\n",
            "specialize in smart devices, home automation, and sustainable technology solutions.\n",
            "Our mission is to make everyday life smarter, simpler, and more connected. We believe in constant\n",
            "innovation, environmental responsibility, and customer satisfaction above all else.\n",
            "Our headquarters are located in Bengaluru, India, with major regional offices in Singapore,\n",
            "Germany, and the United States.\n",
            "Return Policy\n",
            "We offer a 30-day return policy on all our products purchased directly through our website or\n",
            "authorized outlets.\n",
            "To be eligible for a return, the product must be unused, in its original packaging, and accompanied\n",
            "by the original invoice. Refunds are initiated after we receive and inspect the returned item.\n",
            "Returns are not accepted for customized products, opened software, or items marked 'final sale.'\n",
            "For international orders, return shipping costs are borne by the customer unless the product is found\n",
            "defective upon arrival.\n",
            "Please initiate your return through our online portal or by contacting our support team within 30 days\n",
            "of delivery.\n",
            "Warranty\n",
            "All TechNova products come with a one-year limited warranty from the date of purchase.\n",
            "This warranty covers manufacturing defects and issues arising from normal usage. It does not cover\n",
            "physical damage, unauthorized repairs, or damages due to improper handling.\n",
            "Customers can extend their warranty coverage up to 3 years by subscribing to our Extended\n",
            "Protection Plan.\n",
            "To make a warranty claim, users must register the product on our website within 15 days of\n",
            "purchase and provide a valid proof of purchase during the claim process.Company Manual - TechNova Solutions Pvt. Ltd.\n",
            "Warranty services include repair, replacement, or refund at the company's discretion.\n",
            "Customer Service\n",
            "Our award-winning customer support is available 24/7 to assist you with any queries or concerns.\n",
            "Support Channels:\n",
            "- Phone: +91-9999999999 (Mon-Fri, 9 AM to 6 PM IST)\n",
            "- Email: support@technova.com (Response time: within 24 hours)\n",
            "- Live Chat: Available on our website and mobile app\n",
            "- Help Center: https://support.technova.com\n",
            "We also provide video call support and remote diagnostics for troubleshooting smart home devices.\n",
            "Your satisfaction is our priority. We aim to resolve most customer queries within 48 hours.\n",
            "Environmental Commitment\n",
            "At TechNova, sustainability is a core part of our business. We are committed to reducing electronic\n",
            "waste and promoting green technologies.\n",
            "We use 100% recyclable packaging, and our facilities are powered by renewable energy.\n",
            "Our 'Recycle & Upgrade' program allows customers to exchange their old TechNova devices for\n",
            "credits toward new purchases, ensuring responsible disposal and reuse.\n",
            "We also plant one tree for every product sold, in partnership with global reforestation organizations.\n",
            "TechNova has received multiple green certifications, including ISO 14001 and Energy Star Partner\n",
            "of the Year awards.\n"
          ]
        }
      ]
    },
    {
      "cell_type": "markdown",
      "source": [
        "**Cleaning extracted text data**\n",
        "   - replace all whitespaces, nelines, tabs with single space\n",
        "   - remove all non-ascii characters (like symbols)"
      ],
      "metadata": {
        "id": "60ybI5iQ6BeT"
      }
    },
    {
      "cell_type": "code",
      "source": [
        "import re\n",
        "\n",
        "text = re.sub(r'\\s+', ' ', extracted_text)\n",
        "_text = re.sub(r'[^x00-\\x7F]+',' ', text)"
      ],
      "metadata": {
        "id": "fiK4NGPo6G6I"
      },
      "execution_count": null,
      "outputs": []
    },
    {
      "cell_type": "code",
      "source": [
        "text"
      ],
      "metadata": {
        "colab": {
          "base_uri": "https://localhost:8080/",
          "height": 159
        },
        "id": "NZtQr2qI-7rl",
        "outputId": "a660b22a-d477-4126-e238-cef75db901b2"
      },
      "execution_count": null,
      "outputs": [
        {
          "output_type": "execute_result",
          "data": {
            "text/plain": [
              "\"Company Manual - TechNova Solutions Pvt. Ltd. About the Company TechNova Solutions Pvt. Ltd. is a global leader in consumer electronics, committed to delivering innovative technology and excellent customer service. Founded in 2005, TechNova has grown to serve over 20 million customers across 35 countries. We specialize in smart devices, home automation, and sustainable technology solutions. Our mission is to make everyday life smarter, simpler, and more connected. We believe in constant innovation, environmental responsibility, and customer satisfaction above all else. Our headquarters are located in Bengaluru, India, with major regional offices in Singapore, Germany, and the United States. Return Policy We offer a 30-day return policy on all our products purchased directly through our website or authorized outlets. To be eligible for a return, the product must be unused, in its original packaging, and accompanied by the original invoice. Refunds are initiated after we receive and inspect the returned item. Returns are not accepted for customized products, opened software, or items marked 'final sale.' For international orders, return shipping costs are borne by the customer unless the product is found defective upon arrival. Please initiate your return through our online portal or by contacting our support team within 30 days of delivery. Warranty All TechNova products come with a one-year limited warranty from the date of purchase. This warranty covers manufacturing defects and issues arising from normal usage. It does not cover physical damage, unauthorized repairs, or damages due to improper handling. Customers can extend their warranty coverage up to 3 years by subscribing to our Extended Protection Plan. To make a warranty claim, users must register the product on our website within 15 days of purchase and provide a valid proof of purchase during the claim process.Company Manual - TechNova Solutions Pvt. Ltd. Warranty services include repair, replacement, or refund at the company's discretion. Customer Service Our award-winning customer support is available 24/7 to assist you with any queries or concerns. Support Channels: - Phone: +91-9999999999 (Mon-Fri, 9 AM to 6 PM IST) - Email: support@technova.com (Response time: within 24 hours) - Live Chat: Available on our website and mobile app - Help Center: https://support.technova.com We also provide video call support and remote diagnostics for troubleshooting smart home devices. Your satisfaction is our priority. We aim to resolve most customer queries within 48 hours. Environmental Commitment At TechNova, sustainability is a core part of our business. We are committed to reducing electronic waste and promoting green technologies. We use 100% recyclable packaging, and our facilities are powered by renewable energy. Our 'Recycle & Upgrade' program allows customers to exchange their old TechNova devices for credits toward new purchases, ensuring responsible disposal and reuse. We also plant one tree for every product sold, in partnership with global reforestation organizations. TechNova has received multiple green certifications, including ISO 14001 and Energy Star Partner of the Year awards.\""
            ],
            "application/vnd.google.colaboratory.intrinsic+json": {
              "type": "string"
            }
          },
          "metadata": {},
          "execution_count": 21
        }
      ]
    },
    {
      "cell_type": "code",
      "source": [
        "_text"
      ],
      "metadata": {
        "colab": {
          "base_uri": "https://localhost:8080/",
          "height": 159
        },
        "id": "rgdWFNyj--cj",
        "outputId": "0d9f8976-a007-4425-a4aa-c45810bc9740"
      },
      "execution_count": null,
      "outputs": [
        {
          "output_type": "execute_result",
          "data": {
            "text/plain": [
              "'Company Manual TechNova Solutions Pvt Ltd About the Company TechNova Solutions Pvt Ltd is a global leader in consumer electronics committed to delivering innovative technology and excellent customer service Founded in 2005 TechNova has grown to serve over 20 million customers across 35 countries We specialize in smart devices home automation and sustainable technology solutions Our mission is to make everyday life smarter simpler and more connected We believe in constant innovation environmental responsibility and customer satisfaction above all else Our headquarters are located in Bengaluru India with major regional offices in Singapore Germany and the United States Return Policy We offer a 30 day return policy on all our products purchased directly through our website or authorized outlets To be eligible for a return the product must be unused in its original packaging and accompanied by the original invoice Refunds are initiated after we receive and inspect the returned item Returns are not accepted for customized products opened software or items marked final sale For international orders return shipping costs are borne by the customer unless the product is found defective upon arrival Please initiate your return through our online portal or by contacting our support team within 30 days of delivery Warranty All TechNova products come with a one year limited warranty from the date of purchase This warranty covers manufacturing defects and issues arising from normal usage It does not cover physical damage unauthorized repairs or damages due to improper handling Customers can extend their warranty coverage up to 3 years by subscribing to our Extended Protection Plan To make a warranty claim users must register the product on our website within 15 days of purchase and provide a valid proof of purchase during the claim process Company Manual TechNova Solutions Pvt Ltd Warranty services include repair replacement or refund at the company s discretion Customer Service Our award winning customer support is available 24 7 to assist you with any queries or concerns Support Channels: Phone: 91 9999999999 Mon Fri 9 AM to 6 PM IST Email: support@technova com Response time: within 24 hours Live Chat: Available on our website and mobile app Help Center: https: support technova com We also provide video call support and remote diagnostics for troubleshooting smart home devices Your satisfaction is our priority We aim to resolve most customer queries within 48 hours Environmental Commitment At TechNova sustainability is a core part of our business We are committed to reducing electronic waste and promoting green technologies We use 100 recyclable packaging and our facilities are powered by renewable energy Our Recycle Upgrade program allows customers to exchange their old TechNova devices for credits toward new purchases ensuring responsible disposal and reuse We also plant one tree for every product sold in partnership with global reforestation organizations TechNova has received multiple green certifications including ISO 14001 and Energy Star Partner of the Year awards '"
            ],
            "application/vnd.google.colaboratory.intrinsic+json": {
              "type": "string"
            }
          },
          "metadata": {},
          "execution_count": 22
        }
      ]
    },
    {
      "cell_type": "code",
      "source": [
        "import re\n",
        "\n",
        "def clean_text(text):\n",
        "  text = re.sub(r'\\s+', ' ', extracted_text)\n",
        "  _text = re.sub(r'[^x00-\\x7F]+',' ', text)\n",
        "  return _text\n",
        "\n",
        "\n",
        "cleaned_text = clean_text(extracted_text)\n",
        "print(cleaned_text)"
      ],
      "metadata": {
        "colab": {
          "base_uri": "https://localhost:8080/"
        },
        "id": "xPgIw5Co_MSt",
        "outputId": "2c68b5e4-ba71-4f81-f36a-3d6ac4fdc739"
      },
      "execution_count": null,
      "outputs": [
        {
          "output_type": "stream",
          "name": "stdout",
          "text": [
            "Company Manual TechNova Solutions Pvt Ltd About the Company TechNova Solutions Pvt Ltd is a global leader in consumer electronics committed to delivering innovative technology and excellent customer service Founded in 2005 TechNova has grown to serve over 20 million customers across 35 countries We specialize in smart devices home automation and sustainable technology solutions Our mission is to make everyday life smarter simpler and more connected We believe in constant innovation environmental responsibility and customer satisfaction above all else Our headquarters are located in Bengaluru India with major regional offices in Singapore Germany and the United States Return Policy We offer a 30 day return policy on all our products purchased directly through our website or authorized outlets To be eligible for a return the product must be unused in its original packaging and accompanied by the original invoice Refunds are initiated after we receive and inspect the returned item Returns are not accepted for customized products opened software or items marked final sale For international orders return shipping costs are borne by the customer unless the product is found defective upon arrival Please initiate your return through our online portal or by contacting our support team within 30 days of delivery Warranty All TechNova products come with a one year limited warranty from the date of purchase This warranty covers manufacturing defects and issues arising from normal usage It does not cover physical damage unauthorized repairs or damages due to improper handling Customers can extend their warranty coverage up to 3 years by subscribing to our Extended Protection Plan To make a warranty claim users must register the product on our website within 15 days of purchase and provide a valid proof of purchase during the claim process Company Manual TechNova Solutions Pvt Ltd Warranty services include repair replacement or refund at the company s discretion Customer Service Our award winning customer support is available 24 7 to assist you with any queries or concerns Support Channels: Phone: 91 9999999999 Mon Fri 9 AM to 6 PM IST Email: support@technova com Response time: within 24 hours Live Chat: Available on our website and mobile app Help Center: https: support technova com We also provide video call support and remote diagnostics for troubleshooting smart home devices Your satisfaction is our priority We aim to resolve most customer queries within 48 hours Environmental Commitment At TechNova sustainability is a core part of our business We are committed to reducing electronic waste and promoting green technologies We use 100 recyclable packaging and our facilities are powered by renewable energy Our Recycle Upgrade program allows customers to exchange their old TechNova devices for credits toward new purchases ensuring responsible disposal and reuse We also plant one tree for every product sold in partnership with global reforestation organizations TechNova has received multiple green certifications including ISO 14001 and Energy Star Partner of the Year awards \n"
          ]
        }
      ]
    },
    {
      "cell_type": "markdown",
      "source": [
        "**Splitting the text file or creating sections**"
      ],
      "metadata": {
        "id": "JNnbOvg36JGs"
      }
    },
    {
      "cell_type": "code",
      "source": [
        "sections = {\n",
        "\"About the Company\" : cleaned_text.split('About the Company')[1].split('Return Policy')[0],\n",
        "\"Return Policy\" : cleaned_text.split('Return Policy')[1].split('Warranty')[0],\n",
        "\"Warranty\" : cleaned_text.split('Warranty')[1].split('Customer Service')[0],\n",
        "\"Customer Service\" : cleaned_text.split('Customer Service')[1].split('Environmental Commitment')[0],\n",
        "\"Environmental Commitment\" : cleaned_text.split('Environmental Commitment')[1]\n",
        "}\n",
        "\n",
        "print(sections)"
      ],
      "metadata": {
        "colab": {
          "base_uri": "https://localhost:8080/"
        },
        "id": "1NwtFNHx6l3B",
        "outputId": "777c244d-d0d5-43cd-81e8-00a6e6386820"
      },
      "execution_count": null,
      "outputs": [
        {
          "output_type": "stream",
          "name": "stdout",
          "text": [
            "{'About the Company': ' TechNova Solutions Pvt Ltd is a global leader in consumer electronics committed to delivering innovative technology and excellent customer service Founded in 2005 TechNova has grown to serve over 20 million customers across 35 countries We specialize in smart devices home automation and sustainable technology solutions Our mission is to make everyday life smarter simpler and more connected We believe in constant innovation environmental responsibility and customer satisfaction above all else Our headquarters are located in Bengaluru India with major regional offices in Singapore Germany and the United States ', 'Return Policy': ' We offer a 30 day return policy on all our products purchased directly through our website or authorized outlets To be eligible for a return the product must be unused in its original packaging and accompanied by the original invoice Refunds are initiated after we receive and inspect the returned item Returns are not accepted for customized products opened software or items marked final sale For international orders return shipping costs are borne by the customer unless the product is found defective upon arrival Please initiate your return through our online portal or by contacting our support team within 30 days of delivery ', 'Warranty': ' All TechNova products come with a one year limited warranty from the date of purchase This warranty covers manufacturing defects and issues arising from normal usage It does not cover physical damage unauthorized repairs or damages due to improper handling Customers can extend their warranty coverage up to 3 years by subscribing to our Extended Protection Plan To make a warranty claim users must register the product on our website within 15 days of purchase and provide a valid proof of purchase during the claim process Company Manual TechNova Solutions Pvt Ltd ', 'Customer Service': ' Our award winning customer support is available 24 7 to assist you with any queries or concerns Support Channels: Phone: 91 9999999999 Mon Fri 9 AM to 6 PM IST Email: support@technova com Response time: within 24 hours Live Chat: Available on our website and mobile app Help Center: https: support technova com We also provide video call support and remote diagnostics for troubleshooting smart home devices Your satisfaction is our priority We aim to resolve most customer queries within 48 hours ', 'Environmental Commitment': ' At TechNova sustainability is a core part of our business We are committed to reducing electronic waste and promoting green technologies We use 100 recyclable packaging and our facilities are powered by renewable energy Our Recycle Upgrade program allows customers to exchange their old TechNova devices for credits toward new purchases ensuring responsible disposal and reuse We also plant one tree for every product sold in partnership with global reforestation organizations TechNova has received multiple green certifications including ISO 14001 and Energy Star Partner of the Year awards '}\n"
          ]
        }
      ]
    },
    {
      "cell_type": "code",
      "source": [
        "for section_title, content in sections.items():\n",
        "  print(\"Section Title-\" , section_title)\n",
        "  print(\"Content-\" , content)"
      ],
      "metadata": {
        "colab": {
          "base_uri": "https://localhost:8080/"
        },
        "id": "MWz4UxzoBkaP",
        "outputId": "96edd536-ea3b-4ec8-c1d7-310b7399dff1"
      },
      "execution_count": null,
      "outputs": [
        {
          "output_type": "stream",
          "name": "stdout",
          "text": [
            "Section Title- About the Company\n",
            "Content-  TechNova Solutions Pvt Ltd is a global leader in consumer electronics committed to delivering innovative technology and excellent customer service Founded in 2005 TechNova has grown to serve over 20 million customers across 35 countries We specialize in smart devices home automation and sustainable technology solutions Our mission is to make everyday life smarter simpler and more connected We believe in constant innovation environmental responsibility and customer satisfaction above all else Our headquarters are located in Bengaluru India with major regional offices in Singapore Germany and the United States \n",
            "Section Title- Return Policy\n",
            "Content-  We offer a 30 day return policy on all our products purchased directly through our website or authorized outlets To be eligible for a return the product must be unused in its original packaging and accompanied by the original invoice Refunds are initiated after we receive and inspect the returned item Returns are not accepted for customized products opened software or items marked final sale For international orders return shipping costs are borne by the customer unless the product is found defective upon arrival Please initiate your return through our online portal or by contacting our support team within 30 days of delivery \n",
            "Section Title- Warranty\n",
            "Content-  All TechNova products come with a one year limited warranty from the date of purchase This warranty covers manufacturing defects and issues arising from normal usage It does not cover physical damage unauthorized repairs or damages due to improper handling Customers can extend their warranty coverage up to 3 years by subscribing to our Extended Protection Plan To make a warranty claim users must register the product on our website within 15 days of purchase and provide a valid proof of purchase during the claim process Company Manual TechNova Solutions Pvt Ltd \n",
            "Section Title- Customer Service\n",
            "Content-  Our award winning customer support is available 24 7 to assist you with any queries or concerns Support Channels: Phone: 91 9999999999 Mon Fri 9 AM to 6 PM IST Email: support@technova com Response time: within 24 hours Live Chat: Available on our website and mobile app Help Center: https: support technova com We also provide video call support and remote diagnostics for troubleshooting smart home devices Your satisfaction is our priority We aim to resolve most customer queries within 48 hours \n",
            "Section Title- Environmental Commitment\n",
            "Content-  At TechNova sustainability is a core part of our business We are committed to reducing electronic waste and promoting green technologies We use 100 recyclable packaging and our facilities are powered by renewable energy Our Recycle Upgrade program allows customers to exchange their old TechNova devices for credits toward new purchases ensuring responsible disposal and reuse We also plant one tree for every product sold in partnership with global reforestation organizations TechNova has received multiple green certifications including ISO 14001 and Energy Star Partner of the Year awards \n"
          ]
        }
      ]
    },
    {
      "cell_type": "markdown",
      "source": [
        "**Simple query matching function**"
      ],
      "metadata": {
        "id": "_ictllbD6oSh"
      }
    },
    {
      "cell_type": "code",
      "source": [
        "def query_matching(query , sections):      #a function which can compare your query with each section to provide most relevant information\n",
        "  query = query.lower()\n",
        "  for section_title, content in sections.items():\n",
        "    if query in content.lower():\n",
        "      return f\"Bot: Section Title: {section_title}\\nContent: {content}\"\n",
        "      break\n",
        "  return \"Bot: I couldn't find the relevant result\"\n",
        "\n",
        "#user_query = \"What is the return policy?\"\n",
        "user_query = \"return policy\"\n",
        "responses = query_matching(user_query, sections)\n",
        "print(responses)"
      ],
      "metadata": {
        "colab": {
          "base_uri": "https://localhost:8080/"
        },
        "id": "DqVHq-EG6sRL",
        "outputId": "54514ad8-9d21-46ee-818a-10e600fc8ff0"
      },
      "execution_count": null,
      "outputs": [
        {
          "output_type": "stream",
          "name": "stdout",
          "text": [
            "Bot: Section Title: Return Policy\n",
            "Content:  We offer a 30 day return policy on all our products purchased directly through our website or authorized outlets To be eligible for a return the product must be unused in its original packaging and accompanied by the original invoice Refunds are initiated after we receive and inspect the returned item Returns are not accepted for customized products opened software or items marked final sale For international orders return shipping costs are borne by the customer unless the product is found defective upon arrival Please initiate your return through our online portal or by contacting our support team within 30 days of delivery \n"
          ]
        }
      ]
    },
    {
      "cell_type": "markdown",
      "source": [
        "**Improved Query matching**"
      ],
      "metadata": {
        "id": "gl2S3ewbExrY"
      }
    },
    {
      "cell_type": "code",
      "source": [
        "user_query = \"What is the return policy?\"\n",
        "for word in user_query.split():\n",
        "  print(word)"
      ],
      "metadata": {
        "colab": {
          "base_uri": "https://localhost:8080/"
        },
        "id": "0LnViAPpD0-L",
        "outputId": "6d516449-ad05-4f4b-90ec-af8d968098c9"
      },
      "execution_count": null,
      "outputs": [
        {
          "output_type": "stream",
          "name": "stdout",
          "text": [
            "What\n",
            "is\n",
            "the\n",
            "return\n",
            "policy?\n"
          ]
        }
      ]
    },
    {
      "cell_type": "code",
      "source": [
        "def query_matching(query , sections):\n",
        "  total_hits = 0\n",
        "  best_match = None\n",
        "\n",
        "  query_keywords = user_query.lower().split()\n",
        "  for section_title, content in sections.items():\n",
        "    content = content.lower()\n",
        "    hits = 0\n",
        "    for word in user_query.split():\n",
        "      if (word in section_title.lower()) or (word in content):\n",
        "        hits += 1\n",
        "    if hits > total_hits:\n",
        "      total_hits = hits\n",
        "      best_match = (section_title, content)\n",
        "\n",
        "  if best_match:\n",
        "    title, content = best_match\n",
        "    return f\"Bot: Section Title: {title}\\nContent: {content}\"\n",
        "  else:\n",
        "    return \"Bot: I couldn't find relevant result\""
      ],
      "metadata": {
        "id": "nlrfI_NlFTDm"
      },
      "execution_count": null,
      "outputs": []
    },
    {
      "cell_type": "code",
      "source": [
        "user_query = \"What is the return policy ?\"\n",
        "response = query_matching(user_query , sections)\n",
        "print(response)"
      ],
      "metadata": {
        "colab": {
          "base_uri": "https://localhost:8080/"
        },
        "id": "kQpkXNpqFrJQ",
        "outputId": "f090eedd-ded0-43b5-d429-1921f9d7e093"
      },
      "execution_count": null,
      "outputs": [
        {
          "output_type": "stream",
          "name": "stdout",
          "text": [
            "Bot: Section Title: Return Policy\n",
            "Content:  we offer a 30 day return policy on all our products purchased directly through our website or authorized outlets to be eligible for a return the product must be unused in its original packaging and accompanied by the original invoice refunds are initiated after we receive and inspect the returned item returns are not accepted for customized products opened software or items marked final sale for international orders return shipping costs are borne by the customer unless the product is found defective upon arrival please initiate your return through our online portal or by contacting our support team within 30 days of delivery \n"
          ]
        }
      ]
    },
    {
      "cell_type": "code",
      "source": [
        "user_query = \"tell me about company\"\n",
        "response = query_matching(user_query , sections)\n",
        "print(response)"
      ],
      "metadata": {
        "colab": {
          "base_uri": "https://localhost:8080/"
        },
        "id": "DYpIt8bDFv-1",
        "outputId": "a15ff840-0fcc-43c8-acbc-ff0fb51fb5cc"
      },
      "execution_count": null,
      "outputs": [
        {
          "output_type": "stream",
          "name": "stdout",
          "text": [
            "Bot: Section Title: About the Company\n",
            "Content:  technova solutions pvt ltd is a global leader in consumer electronics committed to delivering innovative technology and excellent customer service founded in 2005 technova has grown to serve over 20 million customers across 35 countries we specialize in smart devices home automation and sustainable technology solutions our mission is to make everyday life smarter simpler and more connected we believe in constant innovation environmental responsibility and customer satisfaction above all else our headquarters are located in bengaluru india with major regional offices in singapore germany and the united states \n"
          ]
        }
      ]
    },
    {
      "cell_type": "code",
      "source": [
        "user_query = \"help me with waranty process\"\n",
        "response = query_matching(user_query , sections)\n",
        "print(response)"
      ],
      "metadata": {
        "colab": {
          "base_uri": "https://localhost:8080/"
        },
        "id": "IXoSNC6zH7_E",
        "outputId": "b1d1aa05-158a-4787-c200-fa5f40b73e29"
      },
      "execution_count": null,
      "outputs": [
        {
          "output_type": "stream",
          "name": "stdout",
          "text": [
            "Bot: Section Title: Warranty\n",
            "Content:  all technova products come with a one year limited warranty from the date of purchase this warranty covers manufacturing defects and issues arising from normal usage it does not cover physical damage unauthorized repairs or damages due to improper handling customers can extend their warranty coverage up to 3 years by subscribing to our extended protection plan to make a warranty claim users must register the product on our website within 15 days of purchase and provide a valid proof of purchase during the claim process company manual technova solutions pvt ltd \n"
          ]
        }
      ]
    },
    {
      "cell_type": "code",
      "source": [
        "user_query = \"I want to return\"\n",
        "response = query_matching(user_query , sections)\n",
        "print(response)"
      ],
      "metadata": {
        "id": "tlH-xLdSIB0M",
        "outputId": "9157350c-32f0-4754-fa2c-cc0a2fa6ee2e",
        "colab": {
          "base_uri": "https://localhost:8080/"
        }
      },
      "execution_count": null,
      "outputs": [
        {
          "output_type": "stream",
          "name": "stdout",
          "text": [
            "Bot: Section Title: Return Policy\n",
            "Content:  we offer a 30 day return policy on all our products purchased directly through our website or authorized outlets to be eligible for a return the product must be unused in its original packaging and accompanied by the original invoice refunds are initiated after we receive and inspect the returned item returns are not accepted for customized products opened software or items marked final sale for international orders return shipping costs are borne by the customer unless the product is found defective upon arrival please initiate your return through our online portal or by contacting our support team within 30 days of delivery \n"
          ]
        }
      ]
    },
    {
      "cell_type": "code",
      "source": [],
      "metadata": {
        "id": "-PcaGB3YIFjZ"
      },
      "execution_count": null,
      "outputs": []
    }
  ]
}