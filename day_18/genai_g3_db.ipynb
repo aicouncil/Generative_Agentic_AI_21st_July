{
  "nbformat": 4,
  "nbformat_minor": 0,
  "metadata": {
    "colab": {
      "provenance": []
    },
    "kernelspec": {
      "name": "python3",
      "display_name": "Python 3"
    },
    "language_info": {
      "name": "python"
    }
  },
  "cells": [
    {
      "cell_type": "code",
      "execution_count": null,
      "metadata": {
        "id": "P6pYQpgHBehU"
      },
      "outputs": [],
      "source": [
        "import sqlite3\n",
        "from datetime import datetime, timedelta"
      ]
    },
    {
      "cell_type": "code",
      "source": [
        "#Connect to local database (create it if it is not existing)\n",
        "conn = sqlite3.connect('office_data.db')\n",
        "cursor = conn.cursor()"
      ],
      "metadata": {
        "id": "p79bASgGBj2a"
      },
      "execution_count": null,
      "outputs": []
    },
    {
      "cell_type": "code",
      "source": [
        "#cursor.execute(\"drop table attendance\")"
      ],
      "metadata": {
        "id": "KtC23STXIBdi"
      },
      "execution_count": null,
      "outputs": []
    },
    {
      "cell_type": "code",
      "source": [
        "#three columns data table - id - primary(no two samples can have same id), name , date\n",
        "\n",
        "table_query = \"\"\"\n",
        "CREATE TABLE attendance(id integer primary key autoincrement, name text, date text)\n",
        "\"\"\"\n",
        "\n",
        "cursor.execute(table_query)"
      ],
      "metadata": {
        "colab": {
          "base_uri": "https://localhost:8080/"
        },
        "id": "KXgnqv_5B8Sp",
        "outputId": "425ee42a-a5d6-4c9d-9b4b-38045013f7db"
      },
      "execution_count": null,
      "outputs": [
        {
          "output_type": "execute_result",
          "data": {
            "text/plain": [
              "<sqlite3.Cursor at 0x7e317e0ea140>"
            ]
          },
          "metadata": {},
          "execution_count": 30
        }
      ]
    },
    {
      "cell_type": "code",
      "source": [
        "print(datetime.now())"
      ],
      "metadata": {
        "colab": {
          "base_uri": "https://localhost:8080/"
        },
        "id": "2256QnVTE0u4",
        "outputId": "f08fc984-f909-4928-cc89-475156298353"
      },
      "execution_count": null,
      "outputs": [
        {
          "output_type": "stream",
          "name": "stdout",
          "text": [
            "2025-08-19 16:20:01.661339\n"
          ]
        }
      ]
    },
    {
      "cell_type": "code",
      "source": [
        "datetime.now().strftime(\"%Y-%m-%d\")"
      ],
      "metadata": {
        "colab": {
          "base_uri": "https://localhost:8080/",
          "height": 35
        },
        "id": "ui7K6-vTFQ8q",
        "outputId": "cce07a45-0437-4d92-8789-1aae0d77b1b8"
      },
      "execution_count": null,
      "outputs": [
        {
          "output_type": "execute_result",
          "data": {
            "text/plain": [
              "'2025-08-19'"
            ],
            "application/vnd.google.colaboratory.intrinsic+json": {
              "type": "string"
            }
          },
          "metadata": {},
          "execution_count": 32
        }
      ]
    },
    {
      "cell_type": "code",
      "source": [
        "#insert few data samples\n",
        "#\"insert into attendance (name, date) values (?, ?)\"\n",
        "\n",
        "today = datetime.now()\n",
        "\n",
        "for i in range(3):\n",
        "  day = today - timedelta(days = i)\n",
        "  for j in range(100 + i * 10):\n",
        "    cursor.execute(\"insert into attendance (name, date) values (?, ?)\" ,(f\"person_{j+1}\" , day.strftime(\"%Y-%m-%d\")))\n",
        "\n",
        "conn.commit()\n",
        "conn.close()"
      ],
      "metadata": {
        "id": "rhfSuPRXD4Af"
      },
      "execution_count": null,
      "outputs": []
    },
    {
      "cell_type": "code",
      "source": [
        "conn = sqlite3.connect('office_data.db')\n",
        "cursor = conn.cursor()\n",
        "\n",
        "cursor.execute(\"select * from attendance limit 5\")\n",
        "rows = cursor.fetchall()\n",
        "for row in rows:\n",
        "  print(row)\n",
        "\n",
        "conn.commit()\n",
        "conn.close()"
      ],
      "metadata": {
        "colab": {
          "base_uri": "https://localhost:8080/"
        },
        "id": "MPh5jQ0qFypT",
        "outputId": "f71595a6-f1d3-4db9-a96c-aefea6f12d0b"
      },
      "execution_count": null,
      "outputs": [
        {
          "output_type": "stream",
          "name": "stdout",
          "text": [
            "(1, 'person_1', '2025-08-19')\n",
            "(2, 'person_2', '2025-08-19')\n",
            "(3, 'person_3', '2025-08-19')\n",
            "(4, 'person_4', '2025-08-19')\n",
            "(5, 'person_5', '2025-08-19')\n"
          ]
        }
      ]
    },
    {
      "cell_type": "code",
      "source": [
        "conn = sqlite3.connect('office_data.db')\n",
        "cursor = conn.cursor()\n",
        "\n",
        "count_query = \"select count(*) from attendance where date = '2025-08-17'\"\n",
        "cursor.execute(count_query)\n",
        "count = cursor.fetchone()\n",
        "print(count)\n",
        "\n",
        "conn.commit()\n",
        "conn.close()"
      ],
      "metadata": {
        "colab": {
          "base_uri": "https://localhost:8080/"
        },
        "id": "w833vCQQGDFz",
        "outputId": "ac89938a-0125-49d7-d66e-aafbc534a824"
      },
      "execution_count": null,
      "outputs": [
        {
          "output_type": "stream",
          "name": "stdout",
          "text": [
            "(120,)\n"
          ]
        }
      ]
    },
    {
      "cell_type": "code",
      "source": [
        "def get_attendance_count(date_str):\n",
        "    conn = sqlite3.connect('office_data.db')\n",
        "    cursor = conn.cursor()\n",
        "\n",
        "    cursor.execute(\"select count(*) from attendance where date = ?\", (date_str,))\n",
        "    count = cursor.fetchone()\n",
        "\n",
        "    conn.commit()\n",
        "    conn.close()\n",
        "\n",
        "    return count"
      ],
      "metadata": {
        "id": "5tawjwHvHEZ2"
      },
      "execution_count": null,
      "outputs": []
    },
    {
      "cell_type": "code",
      "source": [
        "get_attendance_count('2025-08-18')[0]"
      ],
      "metadata": {
        "colab": {
          "base_uri": "https://localhost:8080/"
        },
        "id": "d37AM8BdI2r8",
        "outputId": "ddb86d0c-73f0-479c-fa32-f8181c7d907e"
      },
      "execution_count": null,
      "outputs": [
        {
          "output_type": "execute_result",
          "data": {
            "text/plain": [
              "110"
            ]
          },
          "metadata": {},
          "execution_count": 60
        }
      ]
    },
    {
      "cell_type": "code",
      "source": [
        "def handle_query(user_query):\n",
        "  if 'yesterday' in user_query.lower():\n",
        "    date = (datetime.now() - timedelta(days = 1)).strftime(\"%Y-%m-%d\")\n",
        "    count = get_attendance_count(date)\n",
        "    return f\"Bot: Yesterday, {count} people were in the office.\"\n",
        "  else:\n",
        "    return \"Bot: I can only answer about yesterday count as of now.\""
      ],
      "metadata": {
        "id": "DLds7X0VI85E"
      },
      "execution_count": null,
      "outputs": []
    },
    {
      "cell_type": "code",
      "source": [
        "user_query = \"How many people were in the office yesterday?\"\n",
        "response = handle_query(user_query)\n",
        "print(response)"
      ],
      "metadata": {
        "colab": {
          "base_uri": "https://localhost:8080/"
        },
        "id": "AI9yPWmbJHc8",
        "outputId": "4a125810-2671-45c7-f3e5-600b709269e7"
      },
      "execution_count": null,
      "outputs": [
        {
          "output_type": "stream",
          "name": "stdout",
          "text": [
            "Bot: Yesterday, (110,) people were in the office.\n"
          ]
        }
      ]
    },
    {
      "cell_type": "markdown",
      "source": [
        "**Bot that can answer attendance for any day**"
      ],
      "metadata": {
        "id": "x8J-fsMZLfd2"
      }
    },
    {
      "cell_type": "code",
      "source": [
        "user_query = \"How many people were in the office on 2025-08-18\"\n",
        "\n",
        "import re\n",
        "\n",
        "print(re.search(r\"\\d{4}-\\d{2}-\\d{2}\" , user_query))\n",
        "print(re.search(r\"\\d{4}-\\d{2}-\\d{2}\" , user_query).group())"
      ],
      "metadata": {
        "colab": {
          "base_uri": "https://localhost:8080/"
        },
        "id": "kFHrcmruJaHt",
        "outputId": "2bd16697-8df7-477d-9974-850741df58aa"
      },
      "execution_count": null,
      "outputs": [
        {
          "output_type": "stream",
          "name": "stdout",
          "text": [
            "<re.Match object; span=(38, 48), match='2025-08-18'>\n",
            "2025-08-18\n"
          ]
        }
      ]
    },
    {
      "cell_type": "code",
      "source": [
        "#Function to extract date from the query\n",
        "def extract_date_from_query(user_query):\n",
        "  today = datetime.now().date()\n",
        "  if \"today\" in user_query.lower():\n",
        "    return today.strftime(\"%Y-%m-%d\")\n",
        "  elif \"yesterday\" in user_query.lower():\n",
        "    yesterday = today - timedelta(days = 1)\n",
        "    return yesterday.strftime(\"%Y-%m-%d\")\n",
        "  else:\n",
        "    #Match the given date\n",
        "    date_match = re.search(r\"\\d{4}-\\d{2}-\\d{2}\" , user_query)\n",
        "    if date_match:\n",
        "      return date_match.group()\n",
        "    return None"
      ],
      "metadata": {
        "id": "W0tceyZRL5SO"
      },
      "execution_count": null,
      "outputs": []
    },
    {
      "cell_type": "code",
      "source": [
        "extract_date_from_query(\"How many people are there in office today\")"
      ],
      "metadata": {
        "colab": {
          "base_uri": "https://localhost:8080/",
          "height": 35
        },
        "id": "uggeYHEXN8GD",
        "outputId": "77715372-589a-491e-aabf-da5071a3aad2"
      },
      "execution_count": null,
      "outputs": [
        {
          "output_type": "execute_result",
          "data": {
            "text/plain": [
              "'2025-08-19'"
            ],
            "application/vnd.google.colaboratory.intrinsic+json": {
              "type": "string"
            }
          },
          "metadata": {},
          "execution_count": 57
        }
      ]
    },
    {
      "cell_type": "code",
      "source": [
        "extract_date_from_query(\"How many people were there in office yesterday\")"
      ],
      "metadata": {
        "colab": {
          "base_uri": "https://localhost:8080/",
          "height": 35
        },
        "id": "-nrdhoEjOClF",
        "outputId": "3824893d-1054-43ac-f08f-5e3c54619957"
      },
      "execution_count": null,
      "outputs": [
        {
          "output_type": "execute_result",
          "data": {
            "text/plain": [
              "'2025-08-18'"
            ],
            "application/vnd.google.colaboratory.intrinsic+json": {
              "type": "string"
            }
          },
          "metadata": {},
          "execution_count": 58
        }
      ]
    },
    {
      "cell_type": "code",
      "source": [
        "extract_date_from_query(\"How many people were there in office on '2025-08-17'\")"
      ],
      "metadata": {
        "colab": {
          "base_uri": "https://localhost:8080/",
          "height": 35
        },
        "id": "hAmrjOxtOGes",
        "outputId": "29bf54e7-a130-4af3-ad9d-1777584ef746"
      },
      "execution_count": null,
      "outputs": [
        {
          "output_type": "execute_result",
          "data": {
            "text/plain": [
              "'2025-08-17'"
            ],
            "application/vnd.google.colaboratory.intrinsic+json": {
              "type": "string"
            }
          },
          "metadata": {},
          "execution_count": 59
        }
      ]
    },
    {
      "cell_type": "code",
      "source": [
        "#Chabot query handler\n",
        "def chatbot_query_handler(user_query):\n",
        "  target_date = extract_date_from_query(user_query)\n",
        "  if not target_date:\n",
        "    return \"\"\"Bot: Sorry I couldn't find a date in your query,\n",
        "    Please try again with a valid date or use words like today or yesterday\"\"\"\n",
        "\n",
        "  count = get_attendance_count(target_date)[0]\n",
        "\n",
        "  if not count:\n",
        "    return f\"Bot: No attendance record for the {target_date}\"\n",
        "  else:\n",
        "    return f\"Bot: on {target_date} , {count} people were in the office\""
      ],
      "metadata": {
        "id": "-BEQPNXROK1U"
      },
      "execution_count": null,
      "outputs": []
    },
    {
      "cell_type": "code",
      "source": [
        "querries = [\n",
        "    \"How many people were in the office today?\",\n",
        "    \"How many people were in the office on 2025-08-17?\",\n",
        "    \"How many people were in the office yesterday?\",\n",
        "    \"How many people were in the office on 2025-08-16?\",\n",
        "    \"How many people were in the office on 2025-08-20?\",\n",
        "    \"What is attendance?\"\n",
        "]\n",
        "\n",
        "for query in querries:\n",
        "  print(f\"User: {query}\")\n",
        "  response = chatbot_query_handler(query)\n",
        "  print(response)\n",
        "  print()"
      ],
      "metadata": {
        "colab": {
          "base_uri": "https://localhost:8080/"
        },
        "id": "HarKeXsuPrkv",
        "outputId": "680119e4-2ec9-4457-8f10-eed274de891a"
      },
      "execution_count": null,
      "outputs": [
        {
          "output_type": "stream",
          "name": "stdout",
          "text": [
            "User: How many people were in the office today?\n",
            "Bot: on 2025-08-19 , 100 people were in the office\n",
            "\n",
            "User: How many people were in the office on 2025-08-17?\n",
            "Bot: on 2025-08-17 , 120 people were in the office\n",
            "\n",
            "User: How many people were in the office yesterday?\n",
            "Bot: on 2025-08-18 , 110 people were in the office\n",
            "\n",
            "User: How many people were in the office on 2025-08-16?\n",
            "Bot: No attendance record for the 2025-08-16\n",
            "\n",
            "User: How many people were in the office on 2025-08-20?\n",
            "Bot: No attendance record for the 2025-08-20\n",
            "\n",
            "User: What is attendance?\n",
            "Bot: Sorry I couldn't find a date in your query,\n",
            "    Please try again with a valid date or use words like today or yesterday\n",
            "\n"
          ]
        }
      ]
    },
    {
      "cell_type": "code",
      "source": [
        "user_input = input(\"What do you want to know?\")\n",
        "\n",
        "response = chatbot_query_handler(user_input)\n",
        "print(response)"
      ],
      "metadata": {
        "colab": {
          "base_uri": "https://localhost:8080/"
        },
        "id": "k76emQjhQa9B",
        "outputId": "31eced95-d64a-4d78-86f0-192a38759ca9"
      },
      "execution_count": null,
      "outputs": [
        {
          "output_type": "stream",
          "name": "stdout",
          "text": [
            "What do you want to know?2025-08-18\n",
            "Bot: on 2025-08-18 , 110 people were in the office\n"
          ]
        }
      ]
    },
    {
      "cell_type": "code",
      "source": [],
      "metadata": {
        "id": "phSDAWzxQxVe"
      },
      "execution_count": null,
      "outputs": []
    }
  ]
}