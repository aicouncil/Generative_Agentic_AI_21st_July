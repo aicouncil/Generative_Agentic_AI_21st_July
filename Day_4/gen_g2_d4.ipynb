{
  "nbformat": 4,
  "nbformat_minor": 0,
  "metadata": {
    "colab": {
      "provenance": []
    },
    "kernelspec": {
      "name": "python3",
      "display_name": "Python 3"
    },
    "language_info": {
      "name": "python"
    }
  },
  "cells": [
    {
      "cell_type": "markdown",
      "source": [
        "**Integer Encoding**"
      ],
      "metadata": {
        "id": "ROGQ2dCQG2fG"
      }
    },
    {
      "cell_type": "code",
      "execution_count": null,
      "metadata": {
        "id": "nkAZ3W4IGlrN"
      },
      "outputs": [],
      "source": [
        "texts = [\"Generative AI is intresting\",\n",
        "         \"AI is transforming the world\",\n",
        "         \"I want to know about AI more.\"]"
      ]
    },
    {
      "cell_type": "code",
      "source": [
        "from tensorflow.keras.preprocessing.text import Tokenizer\n",
        "\n",
        "tokenizer = Tokenizer()\n",
        "\n",
        "tokenizer.fit_on_texts(texts)"
      ],
      "metadata": {
        "id": "DIAcQ85pGzKf"
      },
      "execution_count": null,
      "outputs": []
    },
    {
      "cell_type": "code",
      "source": [
        "print(tokenizer.word_index)"
      ],
      "metadata": {
        "colab": {
          "base_uri": "https://localhost:8080/"
        },
        "id": "NKYC8hhJI4ua",
        "outputId": "6f8bf6b3-9d9c-4dc1-c9ea-1a07025dc238"
      },
      "execution_count": null,
      "outputs": [
        {
          "output_type": "stream",
          "name": "stdout",
          "text": [
            "{'ai': 1, 'is': 2, 'generative': 3, 'intresting': 4, 'transforming': 5, 'the': 6, 'world': 7, 'i': 8, 'want': 9, 'to': 10, 'know': 11, 'about': 12, 'more': 13}\n"
          ]
        }
      ]
    },
    {
      "cell_type": "code",
      "source": [
        "sequences = tokenizer.texts_to_sequences(texts)\n",
        "sequences"
      ],
      "metadata": {
        "colab": {
          "base_uri": "https://localhost:8080/"
        },
        "id": "-WhXoiLZJCTT",
        "outputId": "92c7c069-6105-4645-c55e-3867daf6340d"
      },
      "execution_count": null,
      "outputs": [
        {
          "output_type": "execute_result",
          "data": {
            "text/plain": [
              "[[3, 1, 2, 4], [1, 2, 5, 6, 7], [8, 9, 10, 11, 12, 1, 13]]"
            ]
          },
          "metadata": {},
          "execution_count": 5
        }
      ]
    },
    {
      "cell_type": "code",
      "source": [
        "from keras.utils import pad_sequences\n",
        "padded_sequences = pad_sequences(sequences , padding = 'pre')\n",
        "print(padded_sequences)"
      ],
      "metadata": {
        "colab": {
          "base_uri": "https://localhost:8080/"
        },
        "id": "OmTlBITtJUM3",
        "outputId": "c9489139-526d-46ad-853d-d44bfdb4a254"
      },
      "execution_count": null,
      "outputs": [
        {
          "output_type": "stream",
          "name": "stdout",
          "text": [
            "[[ 0  0  0  3  1  2  4]\n",
            " [ 0  0  1  2  5  6  7]\n",
            " [ 8  9 10 11 12  1 13]]\n"
          ]
        }
      ]
    },
    {
      "cell_type": "code",
      "source": [
        "from keras.utils import to_categorical\n",
        "to_categorical(padded_sequences)"
      ],
      "metadata": {
        "colab": {
          "base_uri": "https://localhost:8080/"
        },
        "id": "IU_0RhVaJv8i",
        "outputId": "6be85e15-c1e9-4a83-ebba-4bb477a8f4b4"
      },
      "execution_count": null,
      "outputs": [
        {
          "output_type": "execute_result",
          "data": {
            "text/plain": [
              "array([[[1., 0., 0., 0., 0., 0., 0., 0., 0., 0., 0., 0., 0., 0.],\n",
              "        [1., 0., 0., 0., 0., 0., 0., 0., 0., 0., 0., 0., 0., 0.],\n",
              "        [1., 0., 0., 0., 0., 0., 0., 0., 0., 0., 0., 0., 0., 0.],\n",
              "        [0., 0., 0., 1., 0., 0., 0., 0., 0., 0., 0., 0., 0., 0.],\n",
              "        [0., 1., 0., 0., 0., 0., 0., 0., 0., 0., 0., 0., 0., 0.],\n",
              "        [0., 0., 1., 0., 0., 0., 0., 0., 0., 0., 0., 0., 0., 0.],\n",
              "        [0., 0., 0., 0., 1., 0., 0., 0., 0., 0., 0., 0., 0., 0.]],\n",
              "\n",
              "       [[1., 0., 0., 0., 0., 0., 0., 0., 0., 0., 0., 0., 0., 0.],\n",
              "        [1., 0., 0., 0., 0., 0., 0., 0., 0., 0., 0., 0., 0., 0.],\n",
              "        [0., 1., 0., 0., 0., 0., 0., 0., 0., 0., 0., 0., 0., 0.],\n",
              "        [0., 0., 1., 0., 0., 0., 0., 0., 0., 0., 0., 0., 0., 0.],\n",
              "        [0., 0., 0., 0., 0., 1., 0., 0., 0., 0., 0., 0., 0., 0.],\n",
              "        [0., 0., 0., 0., 0., 0., 1., 0., 0., 0., 0., 0., 0., 0.],\n",
              "        [0., 0., 0., 0., 0., 0., 0., 1., 0., 0., 0., 0., 0., 0.]],\n",
              "\n",
              "       [[0., 0., 0., 0., 0., 0., 0., 0., 1., 0., 0., 0., 0., 0.],\n",
              "        [0., 0., 0., 0., 0., 0., 0., 0., 0., 1., 0., 0., 0., 0.],\n",
              "        [0., 0., 0., 0., 0., 0., 0., 0., 0., 0., 1., 0., 0., 0.],\n",
              "        [0., 0., 0., 0., 0., 0., 0., 0., 0., 0., 0., 1., 0., 0.],\n",
              "        [0., 0., 0., 0., 0., 0., 0., 0., 0., 0., 0., 0., 1., 0.],\n",
              "        [0., 1., 0., 0., 0., 0., 0., 0., 0., 0., 0., 0., 0., 0.],\n",
              "        [0., 0., 0., 0., 0., 0., 0., 0., 0., 0., 0., 0., 0., 1.]]])"
            ]
          },
          "metadata": {},
          "execution_count": 9
        }
      ]
    },
    {
      "cell_type": "markdown",
      "source": [
        "**Keras Embedding**"
      ],
      "metadata": {
        "id": "t6QMOEyrULca"
      }
    },
    {
      "cell_type": "code",
      "source": [
        "from tensorflow.keras import models, layers\n",
        "\n",
        "model = models.Sequential()\n",
        "\n",
        "model.add(layers.Embedding(input_dim = 14 , output_dim = 4 , input_length = 7))\n",
        "\n",
        "model.summary()"
      ],
      "metadata": {
        "colab": {
          "base_uri": "https://localhost:8080/",
          "height": 161
        },
        "id": "cnYzGAQtTkFa",
        "outputId": "87c2e5ca-08bd-46a8-bcd8-f20f366d1d8c"
      },
      "execution_count": null,
      "outputs": [
        {
          "output_type": "display_data",
          "data": {
            "text/plain": [
              "\u001b[1mModel: \"sequential_2\"\u001b[0m\n"
            ],
            "text/html": [
              "<pre style=\"white-space:pre;overflow-x:auto;line-height:normal;font-family:Menlo,'DejaVu Sans Mono',consolas,'Courier New',monospace\"><span style=\"font-weight: bold\">Model: \"sequential_2\"</span>\n",
              "</pre>\n"
            ]
          },
          "metadata": {}
        },
        {
          "output_type": "display_data",
          "data": {
            "text/plain": [
              "┏━━━━━━━━━━━━━━━━━━━━━━━━━━━━━━━━━┳━━━━━━━━━━━━━━━━━━━━━━━━┳━━━━━━━━━━━━━━━┓\n",
              "┃\u001b[1m \u001b[0m\u001b[1mLayer (type)                   \u001b[0m\u001b[1m \u001b[0m┃\u001b[1m \u001b[0m\u001b[1mOutput Shape          \u001b[0m\u001b[1m \u001b[0m┃\u001b[1m \u001b[0m\u001b[1m      Param #\u001b[0m\u001b[1m \u001b[0m┃\n",
              "┡━━━━━━━━━━━━━━━━━━━━━━━━━━━━━━━━━╇━━━━━━━━━━━━━━━━━━━━━━━━╇━━━━━━━━━━━━━━━┩\n",
              "│ embedding_2 (\u001b[38;5;33mEmbedding\u001b[0m)         │ ?                      │   \u001b[38;5;34m0\u001b[0m (unbuilt) │\n",
              "└─────────────────────────────────┴────────────────────────┴───────────────┘\n"
            ],
            "text/html": [
              "<pre style=\"white-space:pre;overflow-x:auto;line-height:normal;font-family:Menlo,'DejaVu Sans Mono',consolas,'Courier New',monospace\">┏━━━━━━━━━━━━━━━━━━━━━━━━━━━━━━━━━┳━━━━━━━━━━━━━━━━━━━━━━━━┳━━━━━━━━━━━━━━━┓\n",
              "┃<span style=\"font-weight: bold\"> Layer (type)                    </span>┃<span style=\"font-weight: bold\"> Output Shape           </span>┃<span style=\"font-weight: bold\">       Param # </span>┃\n",
              "┡━━━━━━━━━━━━━━━━━━━━━━━━━━━━━━━━━╇━━━━━━━━━━━━━━━━━━━━━━━━╇━━━━━━━━━━━━━━━┩\n",
              "│ embedding_2 (<span style=\"color: #0087ff; text-decoration-color: #0087ff\">Embedding</span>)         │ ?                      │   <span style=\"color: #00af00; text-decoration-color: #00af00\">0</span> (unbuilt) │\n",
              "└─────────────────────────────────┴────────────────────────┴───────────────┘\n",
              "</pre>\n"
            ]
          },
          "metadata": {}
        },
        {
          "output_type": "display_data",
          "data": {
            "text/plain": [
              "\u001b[1m Total params: \u001b[0m\u001b[38;5;34m0\u001b[0m (0.00 B)\n"
            ],
            "text/html": [
              "<pre style=\"white-space:pre;overflow-x:auto;line-height:normal;font-family:Menlo,'DejaVu Sans Mono',consolas,'Courier New',monospace\"><span style=\"font-weight: bold\"> Total params: </span><span style=\"color: #00af00; text-decoration-color: #00af00\">0</span> (0.00 B)\n",
              "</pre>\n"
            ]
          },
          "metadata": {}
        },
        {
          "output_type": "display_data",
          "data": {
            "text/plain": [
              "\u001b[1m Trainable params: \u001b[0m\u001b[38;5;34m0\u001b[0m (0.00 B)\n"
            ],
            "text/html": [
              "<pre style=\"white-space:pre;overflow-x:auto;line-height:normal;font-family:Menlo,'DejaVu Sans Mono',consolas,'Courier New',monospace\"><span style=\"font-weight: bold\"> Trainable params: </span><span style=\"color: #00af00; text-decoration-color: #00af00\">0</span> (0.00 B)\n",
              "</pre>\n"
            ]
          },
          "metadata": {}
        },
        {
          "output_type": "display_data",
          "data": {
            "text/plain": [
              "\u001b[1m Non-trainable params: \u001b[0m\u001b[38;5;34m0\u001b[0m (0.00 B)\n"
            ],
            "text/html": [
              "<pre style=\"white-space:pre;overflow-x:auto;line-height:normal;font-family:Menlo,'DejaVu Sans Mono',consolas,'Courier New',monospace\"><span style=\"font-weight: bold\"> Non-trainable params: </span><span style=\"color: #00af00; text-decoration-color: #00af00\">0</span> (0.00 B)\n",
              "</pre>\n"
            ]
          },
          "metadata": {}
        }
      ]
    },
    {
      "cell_type": "code",
      "source": [
        "model.compile('adam')\n",
        "word_vectors = model.predict(padded_sequences)\n",
        "word_vectors"
      ],
      "metadata": {
        "colab": {
          "base_uri": "https://localhost:8080/"
        },
        "id": "g32UMxDhUz3q",
        "outputId": "10eeab26-a8c8-4b5a-88bc-b0c19e975ea7"
      },
      "execution_count": null,
      "outputs": [
        {
          "output_type": "stream",
          "name": "stdout",
          "text": [
            "\u001b[1m1/1\u001b[0m \u001b[32m━━━━━━━━━━━━━━━━━━━━\u001b[0m\u001b[37m\u001b[0m \u001b[1m0s\u001b[0m 135ms/step\n"
          ]
        },
        {
          "output_type": "execute_result",
          "data": {
            "text/plain": [
              "array([[[-0.02381177, -0.01065052,  0.04395871,  0.03583583],\n",
              "        [-0.02381177, -0.01065052,  0.04395871,  0.03583583],\n",
              "        [-0.02381177, -0.01065052,  0.04395871,  0.03583583],\n",
              "        [ 0.00783291,  0.03611405,  0.03131589, -0.02834582],\n",
              "        [-0.01144272, -0.02928251,  0.03406086,  0.0447501 ],\n",
              "        [ 0.03141769,  0.01571843,  0.0308475 , -0.0345671 ],\n",
              "        [-0.02443269, -0.0146332 ,  0.0484466 ,  0.00436043]],\n",
              "\n",
              "       [[-0.02381177, -0.01065052,  0.04395871,  0.03583583],\n",
              "        [-0.02381177, -0.01065052,  0.04395871,  0.03583583],\n",
              "        [-0.01144272, -0.02928251,  0.03406086,  0.0447501 ],\n",
              "        [ 0.03141769,  0.01571843,  0.0308475 , -0.0345671 ],\n",
              "        [-0.01121341,  0.03790139,  0.01519141, -0.0013973 ],\n",
              "        [-0.01245753, -0.04483519, -0.03636069, -0.03099337],\n",
              "        [ 0.02110014,  0.01558856,  0.04102587,  0.03271835]],\n",
              "\n",
              "       [[-0.03765134, -0.03964809,  0.00427096,  0.04253462],\n",
              "        [ 0.00750596,  0.02246774, -0.02999684, -0.02422894],\n",
              "        [ 0.01100043,  0.03670153,  0.02674898, -0.0162141 ],\n",
              "        [-0.02640659, -0.00245818, -0.02988034, -0.0208643 ],\n",
              "        [ 0.0314193 , -0.02648121, -0.04834132, -0.00164977],\n",
              "        [-0.01144272, -0.02928251,  0.03406086,  0.0447501 ],\n",
              "        [ 0.01094855,  0.00687166,  0.03622177,  0.00420123]]],\n",
              "      dtype=float32)"
            ]
          },
          "metadata": {},
          "execution_count": 20
        }
      ]
    },
    {
      "cell_type": "code",
      "source": [
        "#Sentence 1 - Generative AI is intresting\n",
        "word_vectors[0].flatten()"
      ],
      "metadata": {
        "colab": {
          "base_uri": "https://localhost:8080/"
        },
        "id": "0w2voFGuVTEG",
        "outputId": "4548faf9-f6de-4989-d7f7-7cddcbc7ec62"
      },
      "execution_count": null,
      "outputs": [
        {
          "output_type": "execute_result",
          "data": {
            "text/plain": [
              "array([-0.02381177, -0.01065052,  0.04395871,  0.03583583, -0.02381177,\n",
              "       -0.01065052,  0.04395871,  0.03583583, -0.02381177, -0.01065052,\n",
              "        0.04395871,  0.03583583,  0.00783291,  0.03611405,  0.03131589,\n",
              "       -0.02834582, -0.01144272, -0.02928251,  0.03406086,  0.0447501 ,\n",
              "        0.03141769,  0.01571843,  0.0308475 , -0.0345671 , -0.02443269,\n",
              "       -0.0146332 ,  0.0484466 ,  0.00436043], dtype=float32)"
            ]
          },
          "metadata": {},
          "execution_count": 21
        }
      ]
    },
    {
      "cell_type": "code",
      "source": [
        "#Sentence 2 -\n",
        "word_vectors[1].flatten()"
      ],
      "metadata": {
        "colab": {
          "base_uri": "https://localhost:8080/"
        },
        "id": "C-60st0DVoBW",
        "outputId": "308d9c02-87cb-4dc4-d92b-4752039d64f5"
      },
      "execution_count": null,
      "outputs": [
        {
          "output_type": "execute_result",
          "data": {
            "text/plain": [
              "array([-0.02381177, -0.01065052,  0.04395871,  0.03583583, -0.02381177,\n",
              "       -0.01065052,  0.04395871,  0.03583583, -0.01144272, -0.02928251,\n",
              "        0.03406086,  0.0447501 ,  0.03141769,  0.01571843,  0.0308475 ,\n",
              "       -0.0345671 , -0.01121341,  0.03790139,  0.01519141, -0.0013973 ,\n",
              "       -0.01245753, -0.04483519, -0.03636069, -0.03099337,  0.02110014,\n",
              "        0.01558856,  0.04102587,  0.03271835], dtype=float32)"
            ]
          },
          "metadata": {},
          "execution_count": 22
        }
      ]
    },
    {
      "cell_type": "code",
      "source": [
        "#Sentence 2 -\n",
        "word_vectors[2].flatten()"
      ],
      "metadata": {
        "colab": {
          "base_uri": "https://localhost:8080/"
        },
        "id": "BlMAa8_pV1qn",
        "outputId": "d40d9c69-8b71-4f46-b12c-18e405214ee5"
      },
      "execution_count": null,
      "outputs": [
        {
          "output_type": "execute_result",
          "data": {
            "text/plain": [
              "array([-0.03765134, -0.03964809,  0.00427096,  0.04253462,  0.00750596,\n",
              "        0.02246774, -0.02999684, -0.02422894,  0.01100043,  0.03670153,\n",
              "        0.02674898, -0.0162141 , -0.02640659, -0.00245818, -0.02988034,\n",
              "       -0.0208643 ,  0.0314193 , -0.02648121, -0.04834132, -0.00164977,\n",
              "       -0.01144272, -0.02928251,  0.03406086,  0.0447501 ,  0.01094855,\n",
              "        0.00687166,  0.03622177,  0.00420123], dtype=float32)"
            ]
          },
          "metadata": {},
          "execution_count": 23
        }
      ]
    },
    {
      "cell_type": "code",
      "source": [],
      "metadata": {
        "id": "Atr_R3PHV2-5"
      },
      "execution_count": null,
      "outputs": []
    }
  ]
}